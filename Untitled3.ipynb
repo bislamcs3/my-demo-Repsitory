{
  "nbformat": 4,
  "nbformat_minor": 0,
  "metadata": {
    "colab": {
      "provenance": [],
      "authorship_tag": "ABX9TyO7RDfyee5Xf31pJ4qPe4C2",
      "include_colab_link": true
    },
    "kernelspec": {
      "name": "python3",
      "display_name": "Python 3"
    },
    "language_info": {
      "name": "python"
    }
  },
  "cells": [
    {
      "cell_type": "markdown",
      "metadata": {
        "id": "view-in-github",
        "colab_type": "text"
      },
      "source": [
        "<a href=\"https://colab.research.google.com/github/bislamcs3/my-demo-Repsitory/blob/main/Untitled3.ipynb\" target=\"_parent\"><img src=\"https://colab.research.google.com/assets/colab-badge.svg\" alt=\"Open In Colab\"/></a>"
      ]
    },
    {
      "cell_type": "code",
      "source": [
        "a=10\n",
        "print(a)"
      ],
      "metadata": {
        "colab": {
          "base_uri": "https://localhost:8080/"
        },
        "id": "QDXj8l3-tCqp",
        "outputId": "b472b2a7-2729-4b63-b0a6-26a646811658"
      },
      "execution_count": 1,
      "outputs": [
        {
          "output_type": "stream",
          "name": "stdout",
          "text": [
            "10\n"
          ]
        }
      ]
    },
    {
      "cell_type": "markdown",
      "source": [
        "Multiple Line Statement"
      ],
      "metadata": {
        "id": "6LIVyPJktdy-"
      }
    },
    {
      "cell_type": "code",
      "source": [
        "b=1+2+3\\\n",
        "+5\\\n",
        "+7+8+\\\n",
        "6+11\n",
        "print(b)"
      ],
      "metadata": {
        "colab": {
          "base_uri": "https://localhost:8080/"
        },
        "id": "heUcd2vntier",
        "outputId": "0aea4b9b-a6d2-4e1c-c810-aa438cea60d7"
      },
      "execution_count": 8,
      "outputs": [
        {
          "output_type": "stream",
          "name": "stdout",
          "text": [
            "43\n"
          ]
        }
      ]
    },
    {
      "cell_type": "code",
      "source": [],
      "metadata": {
        "id": "t6F5hXvsuP1H"
      },
      "execution_count": null,
      "outputs": []
    }
  ]
}