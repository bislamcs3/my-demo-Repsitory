{
  "nbformat": 4,
  "nbformat_minor": 0,
  "metadata": {
    "colab": {
      "provenance": [],
      "toc_visible": true,
      "authorship_tag": "ABX9TyMOvGVJX6B+vH3hYUxwc+Xi",
      "include_colab_link": true
    },
    "kernelspec": {
      "name": "python3",
      "display_name": "Python 3"
    },
    "language_info": {
      "name": "python"
    }
  },
  "cells": [
    {
      "cell_type": "markdown",
      "metadata": {
        "id": "view-in-github",
        "colab_type": "text"
      },
      "source": [
        "<a href=\"https://colab.research.google.com/github/bislamcs3/my-demo-Repsitory/blob/main/Untitled3.ipynb\" target=\"_parent\"><img src=\"https://colab.research.google.com/assets/colab-badge.svg\" alt=\"Open In Colab\"/></a>"
      ]
    },
    {
      "cell_type": "code",
      "source": [
        "#Single Line statement\n",
        "a=10\n",
        "print(a)\n",
        "#Multiple Line statement\n",
        "\n",
        "b=1+2+3\\\n",
        "+5\\\n",
        "+7+8+\\\n",
        "6+11\n",
        "print(b)\n",
        "\n",
        "#for parenthesis()\n",
        "#{}, [] no explicit\n",
        "#line continution is necessery\n",
        "c=(1+2+3\n",
        "   +4+5)\n",
        "print(c)\n",
        "#space seperated\n",
        "print(a,b,c)\n"
      ],
      "metadata": {
        "colab": {
          "base_uri": "https://localhost:8080/"
        },
        "id": "QDXj8l3-tCqp",
        "outputId": "56aa4bfb-1786-4830-e408-66c42357227e"
      },
      "execution_count": 12,
      "outputs": [
        {
          "output_type": "stream",
          "name": "stdout",
          "text": [
            "10\n",
            "43\n",
            "15\n",
            "10 43 15\n"
          ]
        }
      ]
    },
    {
      "cell_type": "code",
      "source": [
        "#In python, we don't have explicityly define the variable types\n",
        "#Assigning\n",
        "var1=10\n",
        "print(var1)\n",
        "#update\n",
        "var1=14\n",
        "print(var1)"
      ],
      "metadata": {
        "colab": {
          "base_uri": "https://localhost:8080/"
        },
        "id": "qDY_7safvhBn",
        "outputId": "f8f0eb11-f16b-45b9-91a3-9ebbb3024a4b"
      },
      "execution_count": 15,
      "outputs": [
        {
          "output_type": "stream",
          "name": "stdout",
          "text": [
            "10\n",
            "14\n"
          ]
        }
      ]
    },
    {
      "cell_type": "code",
      "source": [
        "#Assigning multiple value in multiple variable\n",
        "var1,var2,var3,var4=20,20.5,\"Python\",10\n",
        "print(var1,var2,var3,var4)\n",
        "#Assigning Same value to multiple variable\n",
        "var5=var6=var7=var8=\"Python\"\n",
        "print(var5,var6,var7,var8)\n"
      ],
      "metadata": {
        "colab": {
          "base_uri": "https://localhost:8080/"
        },
        "id": "aQONNkn3wLIn",
        "outputId": "874b8a9f-06fa-4436-f8f0-116f2cfb89aa"
      },
      "execution_count": 17,
      "outputs": [
        {
          "output_type": "stream",
          "name": "stdout",
          "text": [
            "20 20.5 Python 10\n",
            "Python Python Python Python\n"
          ]
        }
      ]
    },
    {
      "cell_type": "code",
      "source": [
        "#Numeric literals\n",
        "#Literal=Constant Value\n",
        "num1=0b1010\n",
        "num2=10\n",
        "num3=0o12\n",
        "num4=0xA\n",
        "print(num1)\n",
        "print(num2)\n",
        "print(num3)\n",
        "print(num4)"
      ],
      "metadata": {
        "colab": {
          "base_uri": "https://localhost:8080/"
        },
        "id": "4JFnOQI6xMO5",
        "outputId": "ae2b7b00-e651-4b1f-dab9-d0ff0fa1c0b5"
      },
      "execution_count": 20,
      "outputs": [
        {
          "output_type": "stream",
          "name": "stdout",
          "text": [
            "10\n",
            "10\n",
            "10\n",
            "10\n"
          ]
        }
      ]
    },
    {
      "cell_type": "code",
      "source": [
        "#Float Literal\n",
        "float1=3.1416; float2=3.5e5\n",
        "print(float1, float2)"
      ],
      "metadata": {
        "colab": {
          "base_uri": "https://localhost:8080/"
        },
        "id": "rr14ptXLzKvv",
        "outputId": "bb89ed8a-efbf-45cf-eb30-ec8ceb90a2e8"
      },
      "execution_count": 21,
      "outputs": [
        {
          "output_type": "stream",
          "name": "stdout",
          "text": [
            "3.1416 350000.0\n"
          ]
        }
      ]
    },
    {
      "cell_type": "code",
      "source": [
        "#complex literal\n",
        "comp1=3+4j\n",
        "print(comp1)\n",
        "print(comp1.real)\n",
        "print(comp1.imag)"
      ],
      "metadata": {
        "colab": {
          "base_uri": "https://localhost:8080/"
        },
        "id": "ZTC-tszQzcGO",
        "outputId": "79ac3926-0c13-48b9-b8e1-2d88a800860b"
      },
      "execution_count": 22,
      "outputs": [
        {
          "output_type": "stream",
          "name": "stdout",
          "text": [
            "(3+4j)\n",
            "3.0\n",
            "4.0\n"
          ]
        }
      ]
    },
    {
      "cell_type": "code",
      "source": [
        "#String Literals\n",
        "str1='single quoted string'\n",
        "str2=\"double quoted string\"\n",
        "str3='''multiple-line string\n",
        "with tab'''\n",
        "print(str1)\n",
        "print(str2)\n",
        "print(str3)"
      ],
      "metadata": {
        "colab": {
          "base_uri": "https://localhost:8080/"
        },
        "id": "ceOobZHyzuAS",
        "outputId": "5b10e7a9-699b-4199-8969-a9001f24a6ae"
      },
      "execution_count": 23,
      "outputs": [
        {
          "output_type": "stream",
          "name": "stdout",
          "text": [
            "single quoted string\n",
            "double quoted string\n",
            "multiple-line string \n",
            "with tab\n"
          ]
        }
      ]
    },
    {
      "cell_type": "code",
      "source": [
        "#Boolean Literal\n",
        "print(0==0)\n",
        "print(0==1)\n",
        "print(True)\n"
      ],
      "metadata": {
        "colab": {
          "base_uri": "https://localhost:8080/"
        },
        "id": "rOskNwWE0Hxj",
        "outputId": "de0a6141-780f-418e-d48b-396095f475d4"
      },
      "execution_count": 24,
      "outputs": [
        {
          "output_type": "stream",
          "name": "stdout",
          "text": [
            "True\n",
            "False\n",
            "True\n"
          ]
        }
      ]
    },
    {
      "cell_type": "code",
      "source": [
        "#Special Literal(null)\n",
        "#None represents the of absence of value or a null value\n",
        "a=None\n",
        "print(a)\n",
        "var1=None\n",
        "print(var1)\n",
        "var1=100\n",
        "print(var1)\n"
      ],
      "metadata": {
        "colab": {
          "base_uri": "https://localhost:8080/"
        },
        "id": "UPaDJFnH0XCM",
        "outputId": "17b5c2e4-39a9-4375-8274-d615f9075f71"
      },
      "execution_count": 27,
      "outputs": [
        {
          "output_type": "stream",
          "name": "stdout",
          "text": [
            "None\n",
            "None\n",
            "100\n"
          ]
        }
      ]
    },
    {
      "cell_type": "code",
      "source": [
        "#Everything is an object in python programming\n",
        "#data types are actually classes and values are instances of the classes\n",
        "num1=99\n",
        "#this num1 referes to the object (containing / refering 10)\n",
        "print(type(num1))\n",
        "float1=3.1416\n",
        "print(type(float1))\n",
        "comp1=3+4j\n",
        "print(type(comp1))\n",
        "str1=\"python is fun\"\n",
        "print(type(str1))\n",
        "print(type(True))\n",
        "print(type(None))\n"
      ],
      "metadata": {
        "colab": {
          "base_uri": "https://localhost:8080/"
        },
        "id": "HK6_waR31SZY",
        "outputId": "e0dfd3ee-d082-4692-dcb3-39df1a8cd716"
      },
      "execution_count": 37,
      "outputs": [
        {
          "output_type": "stream",
          "name": "stdout",
          "text": [
            "<class 'int'>\n",
            "<class 'float'>\n",
            "<class 'complex'>\n",
            "<class 'str'>\n",
            "<class 'bool'>\n",
            "<class 'NoneType'>\n"
          ]
        }
      ]
    },
    {
      "cell_type": "code",
      "source": [
        "num1=10\n",
        "print(float(num1))\n",
        "print(complex(num1))\n",
        "print(\"{}\".format(num1))\n",
        "float1=3.1416\n",
        "print(int(float1))\n",
        "print(\"{}\".format(float1))\n",
        "str1=\"10\"\n",
        "num2=int(str1)\n",
        "print(num2)\n",
        "print(type(num2))\n",
        "print(float(str1))\n",
        "print(complex(str1))\n",
        "\n"
      ],
      "metadata": {
        "colab": {
          "base_uri": "https://localhost:8080/"
        },
        "id": "cbDcHAfZ26b8",
        "outputId": "7abc4e3b-2691-41e3-fe63-2989284a14c2"
      },
      "execution_count": 85,
      "outputs": [
        {
          "output_type": "stream",
          "name": "stdout",
          "text": [
            "10.0\n",
            "(10+0j)\n",
            "10\n",
            "3\n",
            "3.1416\n",
            "10\n",
            "<class 'int'>\n",
            "10.0\n",
            "(10+0j)\n"
          ]
        }
      ]
    },
    {
      "cell_type": "code",
      "source": [
        "#Implicit type conversion\n",
        "num1=10\n",
        "num2=15.5\n",
        "print(num1+num2)\n",
        "#Explicit type conversion\n",
        "num1=10\n",
        "str1=\"123\"\n",
        "#print(num1+num2)#Error\n",
        "print(num1+int(str1))\n"
      ],
      "metadata": {
        "colab": {
          "base_uri": "https://localhost:8080/"
        },
        "id": "SFR6v_fD8gP9",
        "outputId": "0ec0ab9c-4d28-4d05-b8ee-6b9213839f86"
      },
      "execution_count": 56,
      "outputs": [
        {
          "output_type": "stream",
          "name": "stdout",
          "text": [
            "25.5\n",
            "133\n"
          ]
        }
      ]
    },
    {
      "cell_type": "code",
      "source": [
        "#String ConCat\n",
        "str1=\"123\"\n",
        "str2=\"234\"\n",
        "num1=10\n",
        "\n",
        "print(str1+str2)\n",
        "num2=20\n",
        "str3=\"{}\".format(num2)\n",
        "print(str3)\n",
        "print(type(str3))\n",
        "print(str1+str2+str3)"
      ],
      "metadata": {
        "colab": {
          "base_uri": "https://localhost:8080/"
        },
        "id": "oxQUOLfq9t_D",
        "outputId": "a14f835b-d3c2-4bde-e26b-fd335bfbd713"
      },
      "execution_count": 88,
      "outputs": [
        {
          "output_type": "stream",
          "name": "stdout",
          "text": [
            "123234\n",
            "20\n",
            "<class 'str'>\n",
            "12323420\n"
          ]
        }
      ]
    },
    {
      "cell_type": "code",
      "source": [
        "#Python Output\n",
        "#print(*objects,seperate=' ';end='\\n',......)\n",
        "print(\"Line1\")\n",
        "print(\"Line2\")\n",
        "print(\"Value=\",10)\n",
        "print(\"Value=\",10,sep='#')\n",
        "print(\"Portion1=\",10,sep='',end=\"\\t\")\n",
        "print(\"Portion2\")\n"
      ],
      "metadata": {
        "colab": {
          "base_uri": "https://localhost:8080/"
        },
        "id": "ahqgvtZRC1SV",
        "outputId": "fb5bb632-e47f-4944-dccc-dc0f82194f8e"
      },
      "execution_count": 102,
      "outputs": [
        {
          "output_type": "stream",
          "name": "stdout",
          "text": [
            "Line1\n",
            "Line2\n",
            "Value= 10\n",
            "Value=#10\n",
            "Portion1=10\tPortion2\n"
          ]
        }
      ]
    },
    {
      "cell_type": "code",
      "source": [
        "#Python Formatted String\n",
        "var1,var2=10,20\n",
        "print(var1)\n",
        "print(var2)\n",
        "str1=\"value1={} and value2={}\".format(var1,var2)\n",
        "print(str1)\n",
        "print(\"Value1={1} and value2={0}\".format(var1,var2))\n",
        "print(\"Value1={key1} and value2={key2}\".format(key1=var1,key2=var2))\n",
        "# how many Zer want to print after decimal point\n",
        "f1=2.56 #08.5f\n",
        "\n",
        "print(\"formatted value:{key:03.5f}\".format(key=f1))\n"
      ],
      "metadata": {
        "colab": {
          "base_uri": "https://localhost:8080/"
        },
        "id": "AeBzbcfWEmo6",
        "outputId": "e97e67c9-5836-4e7f-ad4e-524abc2f4165"
      },
      "execution_count": 127,
      "outputs": [
        {
          "output_type": "stream",
          "name": "stdout",
          "text": [
            "10\n",
            "20\n",
            "value1=10 and value2=20\n",
            "Value1=20 and value2=10\n",
            "Value1=10 and value2=20\n",
            "formatted value:2.56000\n"
          ]
        }
      ]
    }
  ]
}