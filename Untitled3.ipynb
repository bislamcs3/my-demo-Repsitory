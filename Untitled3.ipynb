{
  "nbformat": 4,
  "nbformat_minor": 0,
  "metadata": {
    "colab": {
      "provenance": [],
      "authorship_tag": "ABX9TyP196BvycBeG27zOSPOATRC",
      "include_colab_link": true
    },
    "kernelspec": {
      "name": "python3",
      "display_name": "Python 3"
    },
    "language_info": {
      "name": "python"
    }
  },
  "cells": [
    {
      "cell_type": "markdown",
      "metadata": {
        "id": "view-in-github",
        "colab_type": "text"
      },
      "source": [
        "<a href=\"https://colab.research.google.com/github/bislamcs3/my-demo-Repsitory/blob/main/Untitled3.ipynb\" target=\"_parent\"><img src=\"https://colab.research.google.com/assets/colab-badge.svg\" alt=\"Open In Colab\"/></a>"
      ]
    },
    {
      "cell_type": "code",
      "source": [
        "#Single Line statement\n",
        "a=10\n",
        "print(a)\n",
        "#Multiple Line statement\n",
        "\n",
        "b=1+2+3\\\n",
        "+5\\\n",
        "+7+8+\\\n",
        "6+11\n",
        "print(b)\n",
        "\n",
        "#for parenthesis()\n",
        "#{}, [] no explicit\n",
        "#line continution is necessery\n",
        "c=(1+2+3\n",
        "   +4+5)\n",
        "print(c)\n",
        "#space seperated\n",
        "print(a,b,c)\n"
      ],
      "metadata": {
        "colab": {
          "base_uri": "https://localhost:8080/"
        },
        "id": "QDXj8l3-tCqp",
        "outputId": "56aa4bfb-1786-4830-e408-66c42357227e"
      },
      "execution_count": 12,
      "outputs": [
        {
          "output_type": "stream",
          "name": "stdout",
          "text": [
            "10\n",
            "43\n",
            "15\n",
            "10 43 15\n"
          ]
        }
      ]
    },
    {
      "cell_type": "code",
      "source": [
        "#In python, we don't have explicityly define the variable types\n",
        "#Assigning\n",
        "var1=10\n",
        "print(var1)"
      ],
      "metadata": {
        "colab": {
          "base_uri": "https://localhost:8080/"
        },
        "id": "qDY_7safvhBn",
        "outputId": "dc47b440-21da-4b98-f8b5-6fff4c614818"
      },
      "execution_count": 13,
      "outputs": [
        {
          "output_type": "stream",
          "name": "stdout",
          "text": [
            "10\n"
          ]
        }
      ]
    }
  ]
}